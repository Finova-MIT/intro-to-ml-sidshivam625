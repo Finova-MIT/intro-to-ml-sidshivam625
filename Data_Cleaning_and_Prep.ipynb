{
  "cells": [
    {
      "cell_type": "markdown",
      "metadata": {
        "id": "oGKYDLAYsthP"
      },
      "source": []
    },
    {
      "cell_type": "markdown",
      "metadata": {
        "id": "QEHwqQXrsthQ"
      },
      "source": [
        "* During data analysis and modeling, a significant amount of time is spent on data preparation.\n",
        "* Tasks include loading, cleaning, transforming, and rearranging data.\n",
        "* Such tasks are often reported to take up 80% or more of an analyst's time.\n",
        "* Pandas, along with the built-in Python language features, provides you with a high-level, flexible, and fast set of tools to enable you to manipulate data into the right form."
      ]
    },
    {
      "cell_type": "code",
      "execution_count": null,
      "metadata": {
        "id": "JC6el_s3sthR"
      },
      "outputs": [],
      "source": [
        "import numpy as np\n",
        "import pandas as pd"
      ]
    },
    {
      "cell_type": "code",
      "execution_count": null,
      "metadata": {
        "id": "77REMQ0UsthR",
        "outputId": "5876b1cf-9e4a-4a9b-f896-a4023015e3b5"
      },
      "outputs": [
        {
          "data": {
            "text/plain": [
              "0    1.2\n",
              "1   -3.5\n",
              "2    NaN\n",
              "3    0.0\n",
              "dtype: float64"
            ]
          },
          "execution_count": 3,
          "metadata": {},
          "output_type": "execute_result"
        }
      ],
      "source": [
        "\n",
        "float_data = pd.Series([1.2, -3.5, np.nan, 0]) # to represent NA (Not available data)\n",
        "float_data\n",
        "#float_data.isna() # to check whether any value is NA or not\n"
      ]
    },
    {
      "cell_type": "code",
      "execution_count": null,
      "metadata": {
        "id": "-nX3bWsLsthR",
        "outputId": "e9425431-1edc-4beb-abd5-92c3c36ba129"
      },
      "outputs": [
        {
          "data": {
            "text/plain": [
              "0    aardvark\n",
              "1         NaN\n",
              "2        None\n",
              "3     avocado\n",
              "dtype: object"
            ]
          },
          "execution_count": 6,
          "metadata": {},
          "output_type": "execute_result"
        }
      ],
      "source": [
        "\n",
        "string_data = pd.Series([\"aardvark\", np.nan, None, \"avocado\"])\n",
        "string_data\n",
        "#string_data.isna()"
      ]
    },
    {
      "cell_type": "code",
      "execution_count": null,
      "metadata": {
        "id": "-E2gtFm8sthS",
        "outputId": "f9f6f3a3-2a4f-4bbe-ff0c-59de2b686e7b"
      },
      "outputs": [
        {
          "data": {
            "text/plain": [
              "0    1.0\n",
              "2    3.5\n",
              "4    7.0\n",
              "dtype: float64"
            ]
          },
          "execution_count": 5,
          "metadata": {},
          "output_type": "execute_result"
        }
      ],
      "source": [
        "\n",
        "data1 = pd.Series([1, np.nan, 3.5, np.nan, 7])\n",
        "data1\n",
        "\n",
        "data1.dropna()\n"
      ]
    },
    {
      "cell_type": "code",
      "execution_count": null,
      "metadata": {
        "id": "DbcOtmINsthS",
        "outputId": "f13d2ed9-6bf8-4329-fa7f-2d97e885ff21"
      },
      "outputs": [
        {
          "data": {
            "text/html": [
              "<div>\n",
              "<style scoped>\n",
              "    .dataframe tbody tr th:only-of-type {\n",
              "        vertical-align: middle;\n",
              "    }\n",
              "\n",
              "    .dataframe tbody tr th {\n",
              "        vertical-align: top;\n",
              "    }\n",
              "\n",
              "    .dataframe thead th {\n",
              "        text-align: right;\n",
              "    }\n",
              "</style>\n",
              "<table border=\"1\" class=\"dataframe\">\n",
              "  <thead>\n",
              "    <tr style=\"text-align: right;\">\n",
              "      <th></th>\n",
              "      <th>0</th>\n",
              "      <th>1</th>\n",
              "      <th>2</th>\n",
              "    </tr>\n",
              "  </thead>\n",
              "  <tbody>\n",
              "    <tr>\n",
              "      <th>0</th>\n",
              "      <td>1.0</td>\n",
              "      <td>6.5</td>\n",
              "      <td>3.0</td>\n",
              "    </tr>\n",
              "    <tr>\n",
              "      <th>1</th>\n",
              "      <td>1.0</td>\n",
              "      <td>NaN</td>\n",
              "      <td>NaN</td>\n",
              "    </tr>\n",
              "    <tr>\n",
              "      <th>2</th>\n",
              "      <td>NaN</td>\n",
              "      <td>NaN</td>\n",
              "      <td>NaN</td>\n",
              "    </tr>\n",
              "    <tr>\n",
              "      <th>3</th>\n",
              "      <td>NaN</td>\n",
              "      <td>6.5</td>\n",
              "      <td>3.0</td>\n",
              "    </tr>\n",
              "  </tbody>\n",
              "</table>\n",
              "</div>"
            ],
            "text/plain": [
              "     0    1    2\n",
              "0  1.0  6.5  3.0\n",
              "1  1.0  NaN  NaN\n",
              "2  NaN  NaN  NaN\n",
              "3  NaN  6.5  3.0"
            ]
          },
          "execution_count": 7,
          "metadata": {},
          "output_type": "execute_result"
        }
      ],
      "source": [
        "data2 = pd.DataFrame([[1., 6.5, 3.], [1., np.nan, np.nan],\n",
        "                     [np.nan, np.nan, np.nan], [np.nan, 6.5, 3.]])\n",
        "data2\n",
        "\n",
        "data2.dropna(axis=\"columns\", how=\"all\")# filter to removes columns which have all values as NA"
      ]
    },
    {
      "cell_type": "code",
      "execution_count": null,
      "metadata": {
        "id": "Xt02sWJgsthS",
        "outputId": "4d6b8d51-f03a-4b45-f80c-bd2c88bdce18"
      },
      "outputs": [
        {
          "data": {
            "text/html": [
              "<div>\n",
              "<style scoped>\n",
              "    .dataframe tbody tr th:only-of-type {\n",
              "        vertical-align: middle;\n",
              "    }\n",
              "\n",
              "    .dataframe tbody tr th {\n",
              "        vertical-align: top;\n",
              "    }\n",
              "\n",
              "    .dataframe thead th {\n",
              "        text-align: right;\n",
              "    }\n",
              "</style>\n",
              "<table border=\"1\" class=\"dataframe\">\n",
              "  <thead>\n",
              "    <tr style=\"text-align: right;\">\n",
              "      <th></th>\n",
              "      <th>0</th>\n",
              "      <th>1</th>\n",
              "      <th>2</th>\n",
              "    </tr>\n",
              "  </thead>\n",
              "  <tbody>\n",
              "    <tr>\n",
              "      <th>0</th>\n",
              "      <td>0.295267</td>\n",
              "      <td>&lt;bound method NDFrame._add_numeric_operations....</td>\n",
              "      <td>&lt;bound method NDFrame._add_numeric_operations....</td>\n",
              "    </tr>\n",
              "    <tr>\n",
              "      <th>1</th>\n",
              "      <td>1.142373</td>\n",
              "      <td>&lt;bound method NDFrame._add_numeric_operations....</td>\n",
              "      <td>&lt;bound method NDFrame._add_numeric_operations....</td>\n",
              "    </tr>\n",
              "    <tr>\n",
              "      <th>2</th>\n",
              "      <td>-0.033100</td>\n",
              "      <td>&lt;bound method NDFrame._add_numeric_operations....</td>\n",
              "      <td>0.535158</td>\n",
              "    </tr>\n",
              "    <tr>\n",
              "      <th>3</th>\n",
              "      <td>-0.805614</td>\n",
              "      <td>&lt;bound method NDFrame._add_numeric_operations....</td>\n",
              "      <td>0.360852</td>\n",
              "    </tr>\n",
              "    <tr>\n",
              "      <th>4</th>\n",
              "      <td>-1.436446</td>\n",
              "      <td>0.609739</td>\n",
              "      <td>-0.094947</td>\n",
              "    </tr>\n",
              "    <tr>\n",
              "      <th>5</th>\n",
              "      <td>2.299973</td>\n",
              "      <td>1.082289</td>\n",
              "      <td>0.77303</td>\n",
              "    </tr>\n",
              "    <tr>\n",
              "      <th>6</th>\n",
              "      <td>-0.231853</td>\n",
              "      <td>-0.020705</td>\n",
              "      <td>1.195915</td>\n",
              "    </tr>\n",
              "  </tbody>\n",
              "</table>\n",
              "</div>"
            ],
            "text/plain": [
              "          0                                                  1  \\\n",
              "0  0.295267  <bound method NDFrame._add_numeric_operations....   \n",
              "1  1.142373  <bound method NDFrame._add_numeric_operations....   \n",
              "2 -0.033100  <bound method NDFrame._add_numeric_operations....   \n",
              "3 -0.805614  <bound method NDFrame._add_numeric_operations....   \n",
              "4 -1.436446                                           0.609739   \n",
              "5  2.299973                                           1.082289   \n",
              "6 -0.231853                                          -0.020705   \n",
              "\n",
              "                                                   2  \n",
              "0  <bound method NDFrame._add_numeric_operations....  \n",
              "1  <bound method NDFrame._add_numeric_operations....  \n",
              "2                                           0.535158  \n",
              "3                                           0.360852  \n",
              "4                                          -0.094947  \n",
              "5                                            0.77303  \n",
              "6                                           1.195915  "
            ]
          },
          "execution_count": 12,
          "metadata": {},
          "output_type": "execute_result"
        }
      ],
      "source": [
        "\n",
        "df3 = pd.DataFrame(np.random.standard_normal((7, 3)))\n",
        "df3.iloc[:4, 1] = np.nan\n",
        "df3.iloc[:2, 2] = np.nan\n",
        "df3.fillna(df3.mean)\n"
      ]
    },
    {
      "cell_type": "code",
      "execution_count": null,
      "metadata": {
        "id": "TN-FHHb-sthS"
      },
      "outputs": [],
      "source": [
        "\n",
        "df4 = pd.DataFrame(np.random.standard_normal((7, 3)))\n",
        "df4.iloc[:4, 1] = np.nan\n",
        "df4.iloc[:2, 2] = np.nan\n"
      ]
    },
    {
      "cell_type": "code",
      "execution_count": null,
      "metadata": {
        "id": "0akIzaaksthT",
        "outputId": "217a3dbc-cb94-42b1-cb63-24d95f452ff4"
      },
      "outputs": [
        {
          "name": "stdout",
          "output_type": "stream",
          "text": [
            "      A     B\n",
            "0     1 -1000\n",
            "1  -999     5\n",
            "2     3  -999\n",
            "3 -1000     7\n",
            "     A    B\n",
            "0  1.0  NaN\n",
            "1  NaN  5.0\n",
            "2  3.0  NaN\n",
            "3  NaN  7.0\n"
          ]
        }
      ],
      "source": [
        "# Can also use the replace method to replace 1 or more values.\n",
        "data = pd.DataFrame({\n",
        "    'A': [1, -999, 3, -1000],\n",
        "    'B': [-1000, 5, -999, 7]\n",
        "})\n",
        "print(data)\n",
        "# valid way to replace multiple values (-999 and -1000) with a single value (np.nan),\n",
        "#If you want to modify the DataFrame or Series in place, use this argument. Otherwise, it will return a new object.\n",
        "data.replace([-999.0,-1000], np.nan, inplace=True)\n",
        "print(data)"
      ]
    },
    {
      "cell_type": "code",
      "execution_count": null,
      "metadata": {
        "id": "AsKwrmdisthT",
        "outputId": "b5b2b431-3633-441e-8d18-5b5995e092ba"
      },
      "outputs": [
        {
          "data": {
            "text/html": [
              "<div>\n",
              "<style scoped>\n",
              "    .dataframe tbody tr th:only-of-type {\n",
              "        vertical-align: middle;\n",
              "    }\n",
              "\n",
              "    .dataframe tbody tr th {\n",
              "        vertical-align: top;\n",
              "    }\n",
              "\n",
              "    .dataframe thead th {\n",
              "        text-align: right;\n",
              "    }\n",
              "</style>\n",
              "<table border=\"1\" class=\"dataframe\">\n",
              "  <thead>\n",
              "    <tr style=\"text-align: right;\">\n",
              "      <th></th>\n",
              "      <th>k1</th>\n",
              "      <th>k2</th>\n",
              "    </tr>\n",
              "  </thead>\n",
              "  <tbody>\n",
              "    <tr>\n",
              "      <th>0</th>\n",
              "      <td>one</td>\n",
              "      <td>1</td>\n",
              "    </tr>\n",
              "    <tr>\n",
              "      <th>1</th>\n",
              "      <td>two</td>\n",
              "      <td>1</td>\n",
              "    </tr>\n",
              "    <tr>\n",
              "      <th>2</th>\n",
              "      <td>one</td>\n",
              "      <td>2</td>\n",
              "    </tr>\n",
              "    <tr>\n",
              "      <th>3</th>\n",
              "      <td>two</td>\n",
              "      <td>3</td>\n",
              "    </tr>\n",
              "    <tr>\n",
              "      <th>4</th>\n",
              "      <td>one</td>\n",
              "      <td>3</td>\n",
              "    </tr>\n",
              "    <tr>\n",
              "      <th>5</th>\n",
              "      <td>two</td>\n",
              "      <td>4</td>\n",
              "    </tr>\n",
              "    <tr>\n",
              "      <th>6</th>\n",
              "      <td>two</td>\n",
              "      <td>4</td>\n",
              "    </tr>\n",
              "  </tbody>\n",
              "</table>\n",
              "</div>"
            ],
            "text/plain": [
              "    k1  k2\n",
              "0  one   1\n",
              "1  two   1\n",
              "2  one   2\n",
              "3  two   3\n",
              "4  one   3\n",
              "5  two   4\n",
              "6  two   4"
            ]
          },
          "execution_count": 32,
          "metadata": {},
          "output_type": "execute_result"
        }
      ],
      "source": [
        "# Data Transformations include 1. removing duplicates\n",
        "data5 = pd.DataFrame({\"k1\": [\"one\", \"two\"] * 3 + [\"two\"],\n",
        "                     \"k2\": [1, 1, 2, 3, 3, 4, 4]})\n",
        "\n",
        "#data5.duplicated()\n",
        "data5.drop_duplicates()\n",
        "#data5.drop_duplicates(subset=[\"k1\"])"
      ]
    },
    {
      "cell_type": "code",
      "execution_count": null,
      "metadata": {
        "id": "KDL1tDHfsthT",
        "outputId": "2b6621cc-3075-4d64-dc3d-0feedaf89f8f"
      },
      "outputs": [
        {
          "data": {
            "text/html": [
              "<div>\n",
              "<style scoped>\n",
              "    .dataframe tbody tr th:only-of-type {\n",
              "        vertical-align: middle;\n",
              "    }\n",
              "\n",
              "    .dataframe tbody tr th {\n",
              "        vertical-align: top;\n",
              "    }\n",
              "\n",
              "    .dataframe thead th {\n",
              "        text-align: right;\n",
              "    }\n",
              "</style>\n",
              "<table border=\"1\" class=\"dataframe\">\n",
              "  <thead>\n",
              "    <tr style=\"text-align: right;\">\n",
              "      <th></th>\n",
              "      <th>food</th>\n",
              "      <th>ounces</th>\n",
              "    </tr>\n",
              "  </thead>\n",
              "  <tbody>\n",
              "    <tr>\n",
              "      <th>0</th>\n",
              "      <td>salt</td>\n",
              "      <td>4.0</td>\n",
              "    </tr>\n",
              "    <tr>\n",
              "      <th>1</th>\n",
              "      <td>bread</td>\n",
              "      <td>3.0</td>\n",
              "    </tr>\n",
              "    <tr>\n",
              "      <th>2</th>\n",
              "      <td>butter</td>\n",
              "      <td>12.0</td>\n",
              "    </tr>\n",
              "    <tr>\n",
              "      <th>3</th>\n",
              "      <td>rice</td>\n",
              "      <td>6.0</td>\n",
              "    </tr>\n",
              "    <tr>\n",
              "      <th>4</th>\n",
              "      <td>chips</td>\n",
              "      <td>7.5</td>\n",
              "    </tr>\n",
              "    <tr>\n",
              "      <th>5</th>\n",
              "      <td>biscuits</td>\n",
              "      <td>8.0</td>\n",
              "    </tr>\n",
              "    <tr>\n",
              "      <th>6</th>\n",
              "      <td>chocolate</td>\n",
              "      <td>3.0</td>\n",
              "    </tr>\n",
              "    <tr>\n",
              "      <th>7</th>\n",
              "      <td>honey</td>\n",
              "      <td>5.0</td>\n",
              "    </tr>\n",
              "    <tr>\n",
              "      <th>8</th>\n",
              "      <td>sugar</td>\n",
              "      <td>6.0</td>\n",
              "    </tr>\n",
              "  </tbody>\n",
              "</table>\n",
              "</div>"
            ],
            "text/plain": [
              "        food  ounces\n",
              "0       salt     4.0\n",
              "1      bread     3.0\n",
              "2     butter    12.0\n",
              "3       rice     6.0\n",
              "4      chips     7.5\n",
              "5   biscuits     8.0\n",
              "6  chocolate     3.0\n",
              "7      honey     5.0\n",
              "8      sugar     6.0"
            ]
          },
          "execution_count": 2,
          "metadata": {},
          "output_type": "execute_result"
        }
      ],
      "source": [
        "# Data Transformations include 2. creating new columns\n",
        "# DataFrame named data with two columns: \"food\" and \"ounces\"\n",
        "\n",
        "data = pd.DataFrame({\"food\": [\"salt\", \"bread\", \"butter\",\n",
        "                              \"rice\", \"chips\", \"biscuits\",\n",
        "                              \"chocolate\", \"honey\", \"sugar\"],\n",
        "                     \"ounces\": [4, 3, 12, 6, 7.5, 8, 3, 5, 6]})\n",
        "data"
      ]
    },
    {
      "cell_type": "code",
      "execution_count": null,
      "metadata": {
        "id": "rVFu_NcMsthU"
      },
      "outputs": [],
      "source": [
        "# The dictionary food_to_type maps different types of food to their food type.\n",
        "\n",
        "food_to_type = {\n",
        "  \"salt\": \"condiment\",\n",
        "  \"bread\": \"breakfast\",\n",
        "  \"butter\": \"condiment\",\n",
        "  \"rice\": \"grocery\",\n",
        "  \"chips\": \"snack\",\n",
        "  \"honey\": \"condiment\",\n",
        "  \"sugar\": \"condiment\",\n",
        "  \"chocolate\": \"snack\"\n",
        "}"
      ]
    },
    {
      "cell_type": "code",
      "execution_count": null,
      "metadata": {
        "id": "qcTI1BsFsthU",
        "outputId": "b5b56104-5e51-4277-c31e-b566161b4f74"
      },
      "outputs": [
        {
          "data": {
            "text/html": [
              "<div>\n",
              "<style scoped>\n",
              "    .dataframe tbody tr th:only-of-type {\n",
              "        vertical-align: middle;\n",
              "    }\n",
              "\n",
              "    .dataframe tbody tr th {\n",
              "        vertical-align: top;\n",
              "    }\n",
              "\n",
              "    .dataframe thead th {\n",
              "        text-align: right;\n",
              "    }\n",
              "</style>\n",
              "<table border=\"1\" class=\"dataframe\">\n",
              "  <thead>\n",
              "    <tr style=\"text-align: right;\">\n",
              "      <th></th>\n",
              "      <th>food</th>\n",
              "      <th>ounces</th>\n",
              "      <th>ftype</th>\n",
              "    </tr>\n",
              "  </thead>\n",
              "  <tbody>\n",
              "    <tr>\n",
              "      <th>0</th>\n",
              "      <td>salt</td>\n",
              "      <td>4.0</td>\n",
              "      <td>condiment</td>\n",
              "    </tr>\n",
              "    <tr>\n",
              "      <th>1</th>\n",
              "      <td>bread</td>\n",
              "      <td>3.0</td>\n",
              "      <td>breakfast</td>\n",
              "    </tr>\n",
              "    <tr>\n",
              "      <th>2</th>\n",
              "      <td>butter</td>\n",
              "      <td>12.0</td>\n",
              "      <td>condiment</td>\n",
              "    </tr>\n",
              "    <tr>\n",
              "      <th>3</th>\n",
              "      <td>rice</td>\n",
              "      <td>6.0</td>\n",
              "      <td>grocery</td>\n",
              "    </tr>\n",
              "    <tr>\n",
              "      <th>4</th>\n",
              "      <td>chips</td>\n",
              "      <td>7.5</td>\n",
              "      <td>snack</td>\n",
              "    </tr>\n",
              "    <tr>\n",
              "      <th>5</th>\n",
              "      <td>biscuits</td>\n",
              "      <td>8.0</td>\n",
              "      <td>NaN</td>\n",
              "    </tr>\n",
              "    <tr>\n",
              "      <th>6</th>\n",
              "      <td>chocolate</td>\n",
              "      <td>3.0</td>\n",
              "      <td>snack</td>\n",
              "    </tr>\n",
              "    <tr>\n",
              "      <th>7</th>\n",
              "      <td>honey</td>\n",
              "      <td>5.0</td>\n",
              "      <td>condiment</td>\n",
              "    </tr>\n",
              "    <tr>\n",
              "      <th>8</th>\n",
              "      <td>sugar</td>\n",
              "      <td>6.0</td>\n",
              "      <td>condiment</td>\n",
              "    </tr>\n",
              "  </tbody>\n",
              "</table>\n",
              "</div>"
            ],
            "text/plain": [
              "        food  ounces      ftype\n",
              "0       salt     4.0  condiment\n",
              "1      bread     3.0  breakfast\n",
              "2     butter    12.0  condiment\n",
              "3       rice     6.0    grocery\n",
              "4      chips     7.5      snack\n",
              "5   biscuits     8.0        NaN\n",
              "6  chocolate     3.0      snack\n",
              "7      honey     5.0  condiment\n",
              "8      sugar     6.0  condiment"
            ]
          },
          "execution_count": 6,
          "metadata": {},
          "output_type": "execute_result"
        }
      ],
      "source": [
        "#used to create a new column \"ftype\" in the data DataFrame, based on the values in the \"food\" column.\n",
        "#The map() function is applied to the \"food\" column, using the food_to_type dictionary to match each food item to its corresponding animal.\n",
        "\n",
        "data[\"ftype\"] = data[\"food\"].map(food_to_type)\n",
        "data"
      ]
    },
    {
      "cell_type": "code",
      "execution_count": null,
      "metadata": {
        "id": "KywF9NlgsthU"
      },
      "outputs": [],
      "source": [
        "# Data Transformations include 3. Discretization and Binning\n",
        "# Discretization and Binning\n",
        "ages = [20, 22, 25, 27, 21, 23, 37, 31, 61, 45, 41, 32]"
      ]
    },
    {
      "cell_type": "code",
      "execution_count": null,
      "metadata": {
        "id": "m-WKhVWYsthU",
        "outputId": "9f40f3c6-3109-4b8d-9433-1f7c244850fb"
      },
      "outputs": [
        {
          "data": {
            "text/plain": [
              "[(18, 25], (18, 25], (18, 25], (25, 35], (18, 25], ..., (25, 35], (60, 100], (35, 60], (35, 60], (25, 35]]\n",
              "Length: 12\n",
              "Categories (4, interval[int64, right]): [(18, 25] < (25, 35] < (35, 60] < (60, 100]]"
            ]
          },
          "execution_count": 9,
          "metadata": {},
          "output_type": "execute_result"
        }
      ],
      "source": [
        "bins = [18, 25, 35, 60, 100] #Assign custom labels to each bin:\n",
        "age_categories = pd.cut(ages, bins)#Assigns each age to one of these intervals. If an age falls outside the range of the bins, it will result in NaN.\n",
        "age_categories"
      ]
    },
    {
      "cell_type": "code",
      "execution_count": null,
      "metadata": {
        "id": "EpGMlcepsthV",
        "outputId": "f46ea7fe-30aa-4ea3-a91a-12e895c25a23"
      },
      "outputs": [
        {
          "name": "stdout",
          "output_type": "stream",
          "text": [
            "IntervalIndex([(18, 25], (25, 35], (35, 60], (60, 100]], dtype='interval[int64, right]')\n",
            "(18, 25]\n",
            "(18, 25]     5\n",
            "(25, 35]     3\n",
            "(35, 60]     3\n",
            "(60, 100]    1\n",
            "dtype: int64\n"
          ]
        }
      ],
      "source": [
        "age_categories.codes# Returns the integer codes representing the bin each age belongs to.\n",
        "print(age_categories.categories)#Returns the IntervalIndex of the categories (the bins).\n",
        "print(age_categories.categories[0])#Accesses the first category (interval\n",
        "print(pd.value_counts(age_categories))"
      ]
    },
    {
      "cell_type": "code",
      "execution_count": null,
      "metadata": {
        "id": "ATZwyHFGsthV",
        "outputId": "773e4969-bd18-40e6-ffe2-35701835db28"
      },
      "outputs": [
        {
          "data": {
            "text/plain": [
              "[[18, 25), [18, 25), [25, 35), [25, 35), [18, 25), ..., [25, 35), [60, 100), [35, 60), [35, 60), [25, 35)]\n",
              "Length: 12\n",
              "Categories (4, interval[int64, left]): [[18, 25) < [25, 35) < [35, 60) < [60, 100)]"
            ]
          },
          "execution_count": 11,
          "metadata": {},
          "output_type": "execute_result"
        }
      ],
      "source": [
        "#By default, intervals are right-closed (e.g., (18, 25]), meaning the right endpoint is included. When you set right=False,\n",
        "#the intervals become left-closed (e.g., [18, 25)), meaning the left endpoint is included instead.\n",
        "pd.cut(ages, bins, right=False)"
      ]
    },
    {
      "cell_type": "code",
      "execution_count": null,
      "metadata": {
        "id": "Mh-H5r8gsthV"
      },
      "outputs": [],
      "source": [
        "#Assigns custom labels to the bins:\n",
        "#(18, 25] → \"Youth\"\n",
        "#(25, 35] → \"YoungAdult\"\n",
        "#(35, 60] → \"MiddleAged\"\n",
        "#(60, 100] → \"Senior\"\n",
        "#Each age is categorized into one of the groups based on the bin it falls into.\n",
        "#For example:\n",
        "#20 → \"Youth\"\n",
        "#27 → \"YoungAdult\"\n",
        "#61 → \"Senior\""
      ]
    },
    {
      "cell_type": "code",
      "execution_count": null,
      "metadata": {
        "id": "83gi29iusthV",
        "outputId": "d839fdff-a1b8-4fc1-ba60-4f658a726cd8"
      },
      "outputs": [
        {
          "data": {
            "text/plain": [
              "['Youth', 'Youth', 'Youth', 'YoungAdult', 'Youth', ..., 'YoungAdult', 'Senior', 'MiddleAged', 'MiddleAged', 'YoungAdult']\n",
              "Length: 12\n",
              "Categories (4, object): ['Youth' < 'YoungAdult' < 'MiddleAged' < 'Senior']"
            ]
          },
          "execution_count": 13,
          "metadata": {},
          "output_type": "execute_result"
        }
      ],
      "source": [
        "group_names = [\"Youth\", \"YoungAdult\", \"MiddleAged\", \"Senior\"]\n",
        "pd.cut(ages, bins, labels=group_names)"
      ]
    },
    {
      "cell_type": "code",
      "execution_count": null,
      "metadata": {
        "id": "jkO-0rrCsthV",
        "outputId": "43de77fe-a00a-4584-eb46-a6b34de0be68"
      },
      "outputs": [
        {
          "name": "stdout",
          "output_type": "stream",
          "text": [
            "(18, 25]     5\n",
            "(25, 35]     3\n",
            "(35, 60]     3\n",
            "(60, 100]    1\n",
            "dtype: int64\n"
          ]
        }
      ],
      "source": [
        "print(pd.value_counts(age_categories))"
      ]
    },
    {
      "cell_type": "code",
      "execution_count": null,
      "metadata": {
        "id": "miQtYaz_sthV",
        "outputId": "19ba565f-37c4-40d5-d513-60d091722501"
      },
      "outputs": [
        {
          "data": {
            "text/html": [
              "<div>\n",
              "<style scoped>\n",
              "    .dataframe tbody tr th:only-of-type {\n",
              "        vertical-align: middle;\n",
              "    }\n",
              "\n",
              "    .dataframe tbody tr th {\n",
              "        vertical-align: top;\n",
              "    }\n",
              "\n",
              "    .dataframe thead th {\n",
              "        text-align: right;\n",
              "    }\n",
              "</style>\n",
              "<table border=\"1\" class=\"dataframe\">\n",
              "  <thead>\n",
              "    <tr style=\"text-align: right;\">\n",
              "      <th></th>\n",
              "      <th>0</th>\n",
              "      <th>1</th>\n",
              "      <th>2</th>\n",
              "      <th>3</th>\n",
              "    </tr>\n",
              "  </thead>\n",
              "  <tbody>\n",
              "    <tr>\n",
              "      <th>count</th>\n",
              "      <td>1000.000000</td>\n",
              "      <td>1000.000000</td>\n",
              "      <td>1000.000000</td>\n",
              "      <td>1000.000000</td>\n",
              "    </tr>\n",
              "    <tr>\n",
              "      <th>mean</th>\n",
              "      <td>0.035320</td>\n",
              "      <td>-0.047482</td>\n",
              "      <td>-0.040091</td>\n",
              "      <td>0.006336</td>\n",
              "    </tr>\n",
              "    <tr>\n",
              "      <th>std</th>\n",
              "      <td>0.969095</td>\n",
              "      <td>0.962987</td>\n",
              "      <td>0.994311</td>\n",
              "      <td>1.019735</td>\n",
              "    </tr>\n",
              "    <tr>\n",
              "      <th>min</th>\n",
              "      <td>-3.333767</td>\n",
              "      <td>-3.194414</td>\n",
              "      <td>-3.108915</td>\n",
              "      <td>-3.645860</td>\n",
              "    </tr>\n",
              "    <tr>\n",
              "      <th>25%</th>\n",
              "      <td>-0.619875</td>\n",
              "      <td>-0.735556</td>\n",
              "      <td>-0.734509</td>\n",
              "      <td>-0.680576</td>\n",
              "    </tr>\n",
              "    <tr>\n",
              "      <th>50%</th>\n",
              "      <td>0.034764</td>\n",
              "      <td>-0.048538</td>\n",
              "      <td>-0.049977</td>\n",
              "      <td>0.040150</td>\n",
              "    </tr>\n",
              "    <tr>\n",
              "      <th>75%</th>\n",
              "      <td>0.688640</td>\n",
              "      <td>0.647824</td>\n",
              "      <td>0.621226</td>\n",
              "      <td>0.713369</td>\n",
              "    </tr>\n",
              "    <tr>\n",
              "      <th>max</th>\n",
              "      <td>3.525865</td>\n",
              "      <td>2.611678</td>\n",
              "      <td>3.366626</td>\n",
              "      <td>2.763474</td>\n",
              "    </tr>\n",
              "  </tbody>\n",
              "</table>\n",
              "</div>"
            ],
            "text/plain": [
              "                 0            1            2            3\n",
              "count  1000.000000  1000.000000  1000.000000  1000.000000\n",
              "mean      0.035320    -0.047482    -0.040091     0.006336\n",
              "std       0.969095     0.962987     0.994311     1.019735\n",
              "min      -3.333767    -3.194414    -3.108915    -3.645860\n",
              "25%      -0.619875    -0.735556    -0.734509    -0.680576\n",
              "50%       0.034764    -0.048538    -0.049977     0.040150\n",
              "75%       0.688640     0.647824     0.621226     0.713369\n",
              "max       3.525865     2.611678     3.366626     2.763474"
            ]
          },
          "execution_count": 49,
          "metadata": {},
          "output_type": "execute_result"
        }
      ],
      "source": [
        "# Data Transformations includes 4. Detecting and Filtering Outliers:\n",
        "data = pd.DataFrame(np.random.standard_normal((1000, 4)))\n",
        "data.describe()"
      ]
    },
    {
      "cell_type": "code",
      "execution_count": null,
      "metadata": {
        "id": "7Hp6E2EWsthW",
        "outputId": "a4e72d61-c608-4cb1-8201-632db8de8188"
      },
      "outputs": [
        {
          "data": {
            "text/plain": [
              "134    3.366626\n",
              "630   -3.108915\n",
              "Name: 2, dtype: float64"
            ]
          },
          "execution_count": 51,
          "metadata": {},
          "output_type": "execute_result"
        }
      ],
      "source": [
        "col = data[2] #Extracts the third column (index 2) of the DataFrame data, Computes the absolute values of all elements in col\n",
        "col[col.abs() > 3] #Filters the col Series, keeping only the rows where the absolute value is greater than 3"
      ]
    },
    {
      "cell_type": "code",
      "execution_count": null,
      "metadata": {
        "id": "4cLxtkCmsthW",
        "outputId": "2c4a1891-8b54-478c-fad3-c30833386f87"
      },
      "outputs": [
        {
          "data": {
            "text/html": [
              "<div>\n",
              "<style scoped>\n",
              "    .dataframe tbody tr th:only-of-type {\n",
              "        vertical-align: middle;\n",
              "    }\n",
              "\n",
              "    .dataframe tbody tr th {\n",
              "        vertical-align: top;\n",
              "    }\n",
              "\n",
              "    .dataframe thead th {\n",
              "        text-align: right;\n",
              "    }\n",
              "</style>\n",
              "<table border=\"1\" class=\"dataframe\">\n",
              "  <thead>\n",
              "    <tr style=\"text-align: right;\">\n",
              "      <th></th>\n",
              "      <th>0</th>\n",
              "      <th>1</th>\n",
              "      <th>2</th>\n",
              "      <th>3</th>\n",
              "    </tr>\n",
              "  </thead>\n",
              "  <tbody>\n",
              "    <tr>\n",
              "      <th>42</th>\n",
              "      <td>0.208011</td>\n",
              "      <td>-0.150923</td>\n",
              "      <td>-0.362528</td>\n",
              "      <td>-3.548824</td>\n",
              "    </tr>\n",
              "    <tr>\n",
              "      <th>134</th>\n",
              "      <td>0.193299</td>\n",
              "      <td>1.397822</td>\n",
              "      <td>3.366626</td>\n",
              "      <td>-2.372214</td>\n",
              "    </tr>\n",
              "    <tr>\n",
              "      <th>281</th>\n",
              "      <td>3.525865</td>\n",
              "      <td>0.283070</td>\n",
              "      <td>0.544635</td>\n",
              "      <td>0.462204</td>\n",
              "    </tr>\n",
              "    <tr>\n",
              "      <th>301</th>\n",
              "      <td>-0.450721</td>\n",
              "      <td>-0.080332</td>\n",
              "      <td>0.599947</td>\n",
              "      <td>-3.645860</td>\n",
              "    </tr>\n",
              "    <tr>\n",
              "      <th>524</th>\n",
              "      <td>-3.333767</td>\n",
              "      <td>-1.240685</td>\n",
              "      <td>-0.650855</td>\n",
              "      <td>0.076254</td>\n",
              "    </tr>\n",
              "    <tr>\n",
              "      <th>605</th>\n",
              "      <td>0.344072</td>\n",
              "      <td>0.581893</td>\n",
              "      <td>-1.116332</td>\n",
              "      <td>-3.018842</td>\n",
              "    </tr>\n",
              "    <tr>\n",
              "      <th>630</th>\n",
              "      <td>-0.555434</td>\n",
              "      <td>-0.048478</td>\n",
              "      <td>-3.108915</td>\n",
              "      <td>1.117755</td>\n",
              "    </tr>\n",
              "    <tr>\n",
              "      <th>760</th>\n",
              "      <td>-0.217146</td>\n",
              "      <td>-0.274138</td>\n",
              "      <td>1.188742</td>\n",
              "      <td>-3.183867</td>\n",
              "    </tr>\n",
              "    <tr>\n",
              "      <th>807</th>\n",
              "      <td>0.744019</td>\n",
              "      <td>1.741426</td>\n",
              "      <td>-2.214074</td>\n",
              "      <td>-3.140963</td>\n",
              "    </tr>\n",
              "    <tr>\n",
              "      <th>973</th>\n",
              "      <td>-0.848098</td>\n",
              "      <td>-3.194414</td>\n",
              "      <td>0.077839</td>\n",
              "      <td>-1.733549</td>\n",
              "    </tr>\n",
              "  </tbody>\n",
              "</table>\n",
              "</div>"
            ],
            "text/plain": [
              "            0         1         2         3\n",
              "42   0.208011 -0.150923 -0.362528 -3.548824\n",
              "134  0.193299  1.397822  3.366626 -2.372214\n",
              "281  3.525865  0.283070  0.544635  0.462204\n",
              "301 -0.450721 -0.080332  0.599947 -3.645860\n",
              "524 -3.333767 -1.240685 -0.650855  0.076254\n",
              "605  0.344072  0.581893 -1.116332 -3.018842\n",
              "630 -0.555434 -0.048478 -3.108915  1.117755\n",
              "760 -0.217146 -0.274138  1.188742 -3.183867\n",
              "807  0.744019  1.741426 -2.214074 -3.140963\n",
              "973 -0.848098 -3.194414  0.077839 -1.733549"
            ]
          },
          "execution_count": 53,
          "metadata": {},
          "output_type": "execute_result"
        }
      ],
      "source": [
        "#data.abs(): Computes the absolute value of all elements in the DataFrame.\n",
        "# returns a DataFrame of the same shape with True for values where the condition is met (absolute value > 3) and False otherwise\n",
        "#.any(axis=\"columns\"): Checks each row across all columns to see if any value in that row is True\n",
        "data[(data.abs() > 3).any(axis=\"columns\")]"
      ]
    },
    {
      "cell_type": "code",
      "execution_count": null,
      "metadata": {
        "id": "xm1FYT_qsthW",
        "outputId": "2e61466e-daef-47c3-8b95-5cecd9bd0090"
      },
      "outputs": [
        {
          "data": {
            "text/html": [
              "<div>\n",
              "<style scoped>\n",
              "    .dataframe tbody tr th:only-of-type {\n",
              "        vertical-align: middle;\n",
              "    }\n",
              "\n",
              "    .dataframe tbody tr th {\n",
              "        vertical-align: top;\n",
              "    }\n",
              "\n",
              "    .dataframe thead th {\n",
              "        text-align: right;\n",
              "    }\n",
              "</style>\n",
              "<table border=\"1\" class=\"dataframe\">\n",
              "  <thead>\n",
              "    <tr style=\"text-align: right;\">\n",
              "      <th></th>\n",
              "      <th>0</th>\n",
              "      <th>1</th>\n",
              "      <th>2</th>\n",
              "      <th>3</th>\n",
              "    </tr>\n",
              "  </thead>\n",
              "  <tbody>\n",
              "    <tr>\n",
              "      <th>count</th>\n",
              "      <td>1000.000000</td>\n",
              "      <td>1000.000000</td>\n",
              "      <td>1000.000000</td>\n",
              "      <td>1000.000000</td>\n",
              "    </tr>\n",
              "    <tr>\n",
              "      <th>mean</th>\n",
              "      <td>0.035128</td>\n",
              "      <td>-0.047288</td>\n",
              "      <td>-0.040348</td>\n",
              "      <td>0.007874</td>\n",
              "    </tr>\n",
              "    <tr>\n",
              "      <th>std</th>\n",
              "      <td>0.966234</td>\n",
              "      <td>0.962371</td>\n",
              "      <td>0.992790</td>\n",
              "      <td>1.014803</td>\n",
              "    </tr>\n",
              "    <tr>\n",
              "      <th>min</th>\n",
              "      <td>-3.000000</td>\n",
              "      <td>-3.000000</td>\n",
              "      <td>-3.000000</td>\n",
              "      <td>-3.000000</td>\n",
              "    </tr>\n",
              "    <tr>\n",
              "      <th>25%</th>\n",
              "      <td>-0.619875</td>\n",
              "      <td>-0.735556</td>\n",
              "      <td>-0.734509</td>\n",
              "      <td>-0.680576</td>\n",
              "    </tr>\n",
              "    <tr>\n",
              "      <th>50%</th>\n",
              "      <td>0.034764</td>\n",
              "      <td>-0.048538</td>\n",
              "      <td>-0.049977</td>\n",
              "      <td>0.040150</td>\n",
              "    </tr>\n",
              "    <tr>\n",
              "      <th>75%</th>\n",
              "      <td>0.688640</td>\n",
              "      <td>0.647824</td>\n",
              "      <td>0.621226</td>\n",
              "      <td>0.713369</td>\n",
              "    </tr>\n",
              "    <tr>\n",
              "      <th>max</th>\n",
              "      <td>3.000000</td>\n",
              "      <td>2.611678</td>\n",
              "      <td>3.000000</td>\n",
              "      <td>2.763474</td>\n",
              "    </tr>\n",
              "  </tbody>\n",
              "</table>\n",
              "</div>"
            ],
            "text/plain": [
              "                 0            1            2            3\n",
              "count  1000.000000  1000.000000  1000.000000  1000.000000\n",
              "mean      0.035128    -0.047288    -0.040348     0.007874\n",
              "std       0.966234     0.962371     0.992790     1.014803\n",
              "min      -3.000000    -3.000000    -3.000000    -3.000000\n",
              "25%      -0.619875    -0.735556    -0.734509    -0.680576\n",
              "50%       0.034764    -0.048538    -0.049977     0.040150\n",
              "75%       0.688640     0.647824     0.621226     0.713369\n",
              "max       3.000000     2.611678     3.000000     2.763474"
            ]
          },
          "execution_count": 54,
          "metadata": {},
          "output_type": "execute_result"
        }
      ],
      "source": [
        "data[data.abs() > 3] = np.sign(data) * 3 # Cap values at ±3\n",
        "#np.sign(data) * 3: Multiplies the sign of each value by 3: Values greater than 3 are replaced with 3. Values less than -3 are replaced with -3\n",
        "data.describe()"
      ]
    },
    {
      "cell_type": "code",
      "execution_count": null,
      "metadata": {
        "id": "L8QfyeI7sthW",
        "outputId": "a6234e99-e0c3-4720-c3ef-0ba9cce6dc39"
      },
      "outputs": [
        {
          "name": "stdout",
          "output_type": "stream",
          "text": [
            "  key  data1\n",
            "0   b      0\n",
            "1   b      1\n",
            "2   a      2\n",
            "3   c      3\n",
            "4   a      4\n",
            "5   b      5\n"
          ]
        },
        {
          "data": {
            "text/html": [
              "<div>\n",
              "<style scoped>\n",
              "    .dataframe tbody tr th:only-of-type {\n",
              "        vertical-align: middle;\n",
              "    }\n",
              "\n",
              "    .dataframe tbody tr th {\n",
              "        vertical-align: top;\n",
              "    }\n",
              "\n",
              "    .dataframe thead th {\n",
              "        text-align: right;\n",
              "    }\n",
              "</style>\n",
              "<table border=\"1\" class=\"dataframe\">\n",
              "  <thead>\n",
              "    <tr style=\"text-align: right;\">\n",
              "      <th></th>\n",
              "      <th>a</th>\n",
              "      <th>b</th>\n",
              "      <th>c</th>\n",
              "    </tr>\n",
              "  </thead>\n",
              "  <tbody>\n",
              "    <tr>\n",
              "      <th>0</th>\n",
              "      <td>0.0</td>\n",
              "      <td>1.0</td>\n",
              "      <td>0.0</td>\n",
              "    </tr>\n",
              "    <tr>\n",
              "      <th>1</th>\n",
              "      <td>0.0</td>\n",
              "      <td>1.0</td>\n",
              "      <td>0.0</td>\n",
              "    </tr>\n",
              "    <tr>\n",
              "      <th>2</th>\n",
              "      <td>1.0</td>\n",
              "      <td>0.0</td>\n",
              "      <td>0.0</td>\n",
              "    </tr>\n",
              "    <tr>\n",
              "      <th>3</th>\n",
              "      <td>0.0</td>\n",
              "      <td>0.0</td>\n",
              "      <td>1.0</td>\n",
              "    </tr>\n",
              "    <tr>\n",
              "      <th>4</th>\n",
              "      <td>1.0</td>\n",
              "      <td>0.0</td>\n",
              "      <td>0.0</td>\n",
              "    </tr>\n",
              "    <tr>\n",
              "      <th>5</th>\n",
              "      <td>0.0</td>\n",
              "      <td>1.0</td>\n",
              "      <td>0.0</td>\n",
              "    </tr>\n",
              "  </tbody>\n",
              "</table>\n",
              "</div>"
            ],
            "text/plain": [
              "     a    b    c\n",
              "0  0.0  1.0  0.0\n",
              "1  0.0  1.0  0.0\n",
              "2  1.0  0.0  0.0\n",
              "3  0.0  0.0  1.0\n",
              "4  1.0  0.0  0.0\n",
              "5  0.0  1.0  0.0"
            ]
          },
          "execution_count": 63,
          "metadata": {},
          "output_type": "execute_result"
        }
      ],
      "source": [
        "# Data Transformation include 5. Computing indicator/dummy variables.\n",
        "#key: Categorical column with values a, b, and c.\n",
        "#data1: Numerical column with values from 0 to 5.\n",
        "df = pd.DataFrame({\"key\": [\"b\", \"b\", \"a\", \"c\", \"a\", \"b\"],\n",
        "                   \"data1\": range(6)})\n",
        "print(df)\n",
        "pd.get_dummies(df[\"key\"], dtype=float)"
      ]
    }
  ],
  "metadata": {
    "kernelspec": {
      "display_name": "Python 3 (ipykernel)",
      "language": "python",
      "name": "python3"
    },
    "language_info": {
      "codemirror_mode": {
        "name": "ipython",
        "version": 3
      },
      "file_extension": ".py",
      "mimetype": "text/x-python",
      "name": "python",
      "nbconvert_exporter": "python",
      "pygments_lexer": "ipython3",
      "version": "3.9.13"
    },
    "colab": {
      "provenance": []
    }
  },
  "nbformat": 4,
  "nbformat_minor": 0
}