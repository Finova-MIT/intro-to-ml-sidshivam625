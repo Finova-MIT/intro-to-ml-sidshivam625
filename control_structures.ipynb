{
 "cells": [
  {
   "cell_type": "markdown",
   "id": "1c66c52a",
   "metadata": {
    "id": "1c66c52a"
   },
   "source": [
    "# Write a Python function to input two numbers and perform the Calculator operations of (+, -, *, /)."
   ]
  },
  {
   "cell_type": "markdown",
   "id": "da9f06d2",
   "metadata": {
    "id": "da9f06d2"
   },
   "source": [
    "Two numbers are asked from user ad arithmetic operations are done on it."
   ]
  },
  {
   "cell_type": "code",
   "execution_count": null,
   "id": "e7abcb26",
   "metadata": {
    "id": "e7abcb26",
    "outputId": "f8a73c7d-a362-465a-8ad0-53d413c6ea5f"
   },
   "outputs": [
    {
     "name": "stdout",
     "output_type": "stream",
     "text": [
      "enter a number3\n",
      "enter another number4\n",
      "7\n",
      "-1\n",
      "12\n",
      "0.75\n"
     ]
    }
   ],
   "source": [
    "a=int(input(\"enter a number\"))\n",
    "b=int(input(\"enter another number\"))\n",
    "print(a+b) #addition\n",
    "print(a-b) #subtraction\n",
    "print(a*b) #multiplication\n",
    "print(a/b) #division"
   ]
  },
  {
   "cell_type": "code",
   "execution_count": null,
   "id": "a78a0c8b",
   "metadata": {
    "id": "a78a0c8b"
   },
   "outputs": [],
   "source": [
    "def operations(a,b): #function defenition\n",
    "\n",
    "    return a+b,a-b,a/b,a*b  # Provides the operations to be dono on the numbers"
   ]
  },
  {
   "cell_type": "code",
   "execution_count": null,
   "id": "a3510890",
   "metadata": {
    "id": "a3510890",
    "outputId": "b0f4381d-3c51-49f1-f5c0-8ebf5aaa6383"
   },
   "outputs": [
    {
     "name": "stdout",
     "output_type": "stream",
     "text": [
      "enter a number3\n",
      "enter another number4\n",
      "(7, -1, 0.75, 12)\n"
     ]
    }
   ],
   "source": [
    "first=int(input(\"enter a number\"))\n",
    "second=int(input(\"enter another number\"))\n",
    "print(operations(first,second)) # prints the calculated values in the form of a tuple"
   ]
  },
  {
   "cell_type": "markdown",
   "id": "VOYA0tSUzxQE",
   "metadata": {
    "id": "VOYA0tSUzxQE"
   },
   "source": [
    "The output is generated in the followinf format : (sum,difference ,product,quotient)"
   ]
  },
  {
   "cell_type": "code",
   "execution_count": null,
   "id": "333b_pUYzwop",
   "metadata": {
    "id": "333b_pUYzwop"
   },
   "outputs": [],
   "source": []
  },
  {
   "cell_type": "markdown",
   "id": "24f137a3",
   "metadata": {
    "id": "24f137a3"
   },
   "source": [
    "# Write a Python function that takes an integer and returns True if it’s a prime number and False otherwise."
   ]
  },
  {
   "cell_type": "markdown",
   "id": "87c33d4b",
   "metadata": {
    "id": "87c33d4b"
   },
   "source": [
    "A prime number is a number which has only 1 and the number itself as its factors. therfore it is not divisible by any number from 2 to the nymber behind it.\n",
    "\n",
    "We use this property of prime numbers to run a loop which checks the divisibily of the given number from all the numbers behind it and if it becomes true in even one case it is a composite number.\n",
    "\n",
    "We use a check variable which stores the value true/false and returns True if it is a prime number and False if it is not a prime number."
   ]
  },
  {
   "cell_type": "code",
   "execution_count": null,
   "id": "fb967701",
   "metadata": {
    "id": "fb967701"
   },
   "outputs": [],
   "source": [
    "def prime(a):\n",
    "    check=True #returns boolear value to represent prime or composite.\n",
    "    for i in range(2,a): #checking all numbers from 2 to the number before a.\n",
    "        if a%i==0:\n",
    "            check=False\n",
    "    return check"
   ]
  },
  {
   "cell_type": "code",
   "execution_count": null,
   "id": "490d54bc",
   "metadata": {
    "id": "490d54bc",
    "outputId": "cbc063e1-696e-4af4-a3ec-693d3dc9f1c0"
   },
   "outputs": [
    {
     "name": "stdout",
     "output_type": "stream",
     "text": [
      "enter a number to be checked 6\n"
     ]
    },
    {
     "data": {
      "text/plain": [
       "False"
      ]
     },
     "execution_count": 9,
     "metadata": {},
     "output_type": "execute_result"
    }
   ],
   "source": [
    "num=int(input(\"enter a number to be checked :\"))\n",
    "prime(num)"
   ]
  },
  {
   "cell_type": "markdown",
   "id": "72e02981",
   "metadata": {
    "id": "72e02981"
   },
   "source": [
    "# Create a Python function that creates a sequence between 1 and 100 and prints all the odd numbers. Compute and display the sum of all the even numbers."
   ]
  },
  {
   "cell_type": "markdown",
   "id": "9b2fa9da",
   "metadata": {
    "id": "9b2fa9da"
   },
   "source": [
    "An odd number can be checked by dividing it by 2. If it gets divided by 2 its not an odd nuber. We run a loop from 1 to 100 and check each number and add that number to another variable SUM to print the sum of all the odd numbers.\n",
    "\n",
    "FUNCTION :"
   ]
  },
  {
   "cell_type": "code",
   "execution_count": null,
   "id": "3eed8798",
   "metadata": {
    "id": "3eed8798"
   },
   "outputs": [],
   "source": [
    "def oddsum():\n",
    " sum=0 #Declaring variable sum\n",
    " for i in range(1,100):\n",
    "    if i%2!=0: # To check for odd/even\n",
    "        print(i) #printing the odd numbers\n",
    "    else:\n",
    "        sum=sum+i\n",
    " return sum\n",
    "\n"
   ]
  },
  {
   "cell_type": "markdown",
   "id": "bf7fc807",
   "metadata": {
    "id": "bf7fc807"
   },
   "source": [
    "OUTPUT :"
   ]
  },
  {
   "cell_type": "code",
   "execution_count": null,
   "id": "95938e98",
   "metadata": {
    "id": "95938e98",
    "outputId": "f409f834-d845-4715-bba5-05913820a634"
   },
   "outputs": [
    {
     "name": "stdout",
     "output_type": "stream",
     "text": [
      "the odd numbers are:\n",
      "1\n",
      "3\n",
      "5\n",
      "7\n",
      "9\n",
      "11\n",
      "13\n",
      "15\n",
      "17\n",
      "19\n",
      "21\n",
      "23\n",
      "25\n",
      "27\n",
      "29\n",
      "31\n",
      "33\n",
      "35\n",
      "37\n",
      "39\n",
      "41\n",
      "43\n",
      "45\n",
      "47\n",
      "49\n",
      "51\n",
      "53\n",
      "55\n",
      "57\n",
      "59\n",
      "61\n",
      "63\n",
      "65\n",
      "67\n",
      "69\n",
      "71\n",
      "73\n",
      "75\n",
      "77\n",
      "79\n",
      "81\n",
      "83\n",
      "85\n",
      "87\n",
      "89\n",
      "91\n",
      "93\n",
      "95\n",
      "97\n",
      "99\n",
      "The sum of even numbers is 2500\n"
     ]
    }
   ],
   "source": [
    "print(\"The odd numbers are:\")\n",
    "print(\"The sum of even numbers is\",oddsum())\n"
   ]
  },
  {
   "cell_type": "markdown",
   "id": "f879e837",
   "metadata": {
    "id": "f879e837"
   },
   "source": [
    "# Write a Python function to add two elements and display the result. The elements can be of type integer, float or string."
   ]
  },
  {
   "cell_type": "markdown",
   "id": "9239194e",
   "metadata": {
    "id": "9239194e"
   },
   "source": [
    "We take 2 inputs from user and add them if they are integer or float, otherwise combine them if it is a string."
   ]
  },
  {
   "cell_type": "markdown",
   "id": "59fb3674",
   "metadata": {
    "id": "59fb3674"
   },
   "source": [
    "FUNCTION :"
   ]
  },
  {
   "cell_type": "code",
   "execution_count": null,
   "id": "e0ba8fa9",
   "metadata": {
    "id": "e0ba8fa9"
   },
   "outputs": [],
   "source": [
    "def add_elements():\n",
    " data_type = input(\"Select data type (integer, float, string): \").lower()\n",
    " if data_type in [\"integer\", \"float\", \"string\"]:\n",
    "      break\n",
    " else:\n",
    "      print(\"Invalid data type. Please select 'integer', 'float', or 'string'.\")\n",
    "\n",
    " if data_type == \"integer\":\n",
    "    a = int(input(\"Enter the first integer: \"))\n",
    "    b = int(input(\"Enter the second integer: \"))\n",
    " elif data_type == \"float\":\n",
    "    a = float(input(\"Enter the first float: \"))\n",
    "    b = float(input(\"Enter the second float: \"))\n",
    " else:  # data_type == \"string\"\n",
    "    a = input(\"Enter the first string: \")\n",
    "    b = input(\"Enter the second string: \")\n",
    "\n",
    " if data_type == \"string\":\n",
    "    result = a + b\n",
    " else:\n",
    "    result = a + b\n",
    "\n",
    " "
   ]
  },
  {
   "cell_type": "markdown",
   "id": "3c4f9891",
   "metadata": {
    "id": "3c4f9891"
   },
   "source": [
    "OUTPUT :"
   ]
  },
  {
   "cell_type": "code",
   "execution_count": null,
   "id": "b27d87e1",
   "metadata": {
    "id": "b27d87e1",
    "outputId": "be3c9012-635a-4d4d-fa5b-baf76d0f334a"
   },
   "outputs": [
    {
     "name": "stdout",
     "output_type": "stream",
     "text": [
      "enter an integer float or string. : hello\n",
      "enter another integer,  float or string : world\n",
      "helloworld\n"
     ]
    }
   ],
   "source": [
    "add_elements()"
   ]
  },
  {
   "cell_type": "markdown",
   "id": "2f5647ec",
   "metadata": {
    "id": "2f5647ec"
   },
   "source": [
    "# Write a Python function that takes a string input from the user and counts the number of vowels and consonants in the string."
   ]
  },
  {
   "cell_type": "markdown",
   "id": "001254d9",
   "metadata": {
    "id": "001254d9"
   },
   "source": [
    "We take each element of the given string and check if its in the list containg all the vowels. If it matches with an element in the list it is a vowel else it is a consonant.\n",
    "\n",
    "We also create teo integer variables named consonant_count and vowel_cound and add them with 1 depending on the character element being vowel or consonant.\n",
    "\n",
    "The number of vowels and consonats are returned as: (vowel_count, consonant_count)\n",
    "\n",
    "FUNCTION :"
   ]
  },
  {
   "cell_type": "code",
   "execution_count": null,
   "id": "5172ad41",
   "metadata": {
    "id": "5172ad41"
   },
   "outputs": [],
   "source": [
    "def vowels(element) :\n",
    "  lst=[\"a\",\"e\",\"i\",\"o\",\"u\"]\n",
    "  vowel_count=0 #setting up a variable to count total no of vowels\n",
    "  consonant_count=0  #setting up a variable to count the total no of consonants.\n",
    "  for i in element:\n",
    "    if i in lst:\n",
    "        vowel_count=vowel_count+1\n",
    "    else :\n",
    "        consonant_count=consonant_count+1\n",
    "  return vowel_count,consonant_count\n",
    "\n"
   ]
  },
  {
   "cell_type": "markdown",
   "id": "d12a1f61",
   "metadata": {
    "id": "d12a1f61"
   },
   "source": [
    "OUTPUT:"
   ]
  },
  {
   "cell_type": "code",
   "execution_count": null,
   "id": "d82b074a",
   "metadata": {
    "id": "d82b074a",
    "outputId": "b2b23186-2507-432b-dd66-db6dc1d73c32"
   },
   "outputs": [
    {
     "name": "stdout",
     "output_type": "stream",
     "text": [
      "(3, 7)\n"
     ]
    }
   ],
   "source": [
    "print(vowels(\"helloworld\"))"
   ]
  },
  {
   "cell_type": "code",
   "execution_count": null,
   "id": "3d5aafa0",
   "metadata": {
    "id": "3d5aafa0"
   },
   "outputs": [],
   "source": []
  }
 ],
 "metadata": {
  "colab": {
   "provenance": []
  },
  "kernelspec": {
   "display_name": "Python [conda env:base] *",
   "language": "python",
   "name": "conda-base-py"
  },
  "language_info": {
   "codemirror_mode": {
    "name": "ipython",
    "version": 3
   },
   "file_extension": ".py",
   "mimetype": "text/x-python",
   "name": "python",
   "nbconvert_exporter": "python",
   "pygments_lexer": "ipython3",
   "version": "3.12.7"
  }
 },
 "nbformat": 4,
 "nbformat_minor": 5
}
