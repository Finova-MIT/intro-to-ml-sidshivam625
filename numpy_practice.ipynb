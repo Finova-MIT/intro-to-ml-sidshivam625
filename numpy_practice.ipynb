{
  "cells": [
    {
      "cell_type": "markdown",
      "id": "b2c49c58",
      "metadata": {
        "id": "b2c49c58"
      },
      "source": [
        "## 1. Generate a 3x4 NumPy array with random integers between 1 and 50."
      ]
    },
    {
      "cell_type": "code",
      "execution_count": null,
      "id": "1db64b4f",
      "metadata": {
        "id": "1db64b4f"
      },
      "outputs": [],
      "source": [
        "import random\n",
        "import numpy as np\n",
        "a=list([random.randrange(1,50)for i in range(4)]for i in range(3)) # method to generate a random matrix.\n",
        "\n",
        "arr=np.array(a)\n"
      ]
    },
    {
      "cell_type": "code",
      "execution_count": null,
      "id": "f02a590b",
      "metadata": {
        "id": "f02a590b",
        "outputId": "51195b82-0036-4bd3-e842-336e3ce63498"
      },
      "outputs": [
        {
          "data": {
            "text/plain": [
              "array([[22, 16,  1, 36],\n",
              "       [ 7, 22, 25,  9],\n",
              "       [20,  8, 24,  3]])"
            ]
          },
          "execution_count": 35,
          "metadata": {},
          "output_type": "execute_result"
        }
      ],
      "source": [
        "arr\n"
      ]
    },
    {
      "cell_type": "markdown",
      "id": "a6e42744",
      "metadata": {
        "id": "a6e42744"
      },
      "source": [
        "#### 1.1 Calculate and print the Mean, Median, and Standard Deviation of the array"
      ]
    },
    {
      "cell_type": "code",
      "execution_count": null,
      "id": "1d15b472",
      "metadata": {
        "id": "1d15b472",
        "outputId": "47fb0772-1e1a-42b4-ec1f-f81406b4e3ce"
      },
      "outputs": [
        {
          "data": {
            "text/plain": [
              "(29.25, 29.25)"
            ]
          },
          "execution_count": 33,
          "metadata": {},
          "output_type": "execute_result"
        }
      ],
      "source": [
        "arr.mean(),np.mean(arr)  # method to calculate mean using numpy"
      ]
    },
    {
      "cell_type": "code",
      "execution_count": null,
      "id": "8cbd0805",
      "metadata": {
        "id": "8cbd0805",
        "outputId": "a993b0e2-d82f-4113-8333-cdf097d1bfd2"
      },
      "outputs": [
        {
          "data": {
            "text/plain": [
              "32.5"
            ]
          },
          "execution_count": 32,
          "metadata": {},
          "output_type": "execute_result"
        }
      ],
      "source": [
        "np.median(arr) #method to calculate median using numpy"
      ]
    },
    {
      "cell_type": "code",
      "execution_count": null,
      "id": "815a7294",
      "metadata": {
        "id": "815a7294",
        "outputId": "1a0617c0-4a9a-47c5-a960-f2773d8c2696"
      },
      "outputs": [
        {
          "data": {
            "text/plain": [
              "10.086776271711173"
            ]
          },
          "execution_count": 37,
          "metadata": {},
          "output_type": "execute_result"
        }
      ],
      "source": [
        "np.std(arr)  #method to calculate std deviation using numpy"
      ]
    },
    {
      "cell_type": "markdown",
      "id": "2233af90",
      "metadata": {
        "id": "2233af90"
      },
      "source": [
        "#### 1.2 Print the Sum of all elements and the sum of each row."
      ]
    },
    {
      "cell_type": "code",
      "execution_count": null,
      "id": "2fc5a629",
      "metadata": {
        "id": "2fc5a629",
        "outputId": "b4d034e6-91cd-44bd-9ae1-457e64488c89"
      },
      "outputs": [
        {
          "data": {
            "text/plain": [
              "193"
            ]
          },
          "execution_count": 39,
          "metadata": {},
          "output_type": "execute_result"
        }
      ],
      "source": [
        "np.sum(arr)  # method to print sum using numpy"
      ]
    },
    {
      "cell_type": "code",
      "execution_count": null,
      "id": "bbf16849",
      "metadata": {
        "id": "bbf16849",
        "outputId": "4959d096-0705-42a0-db54-e568f6718db2"
      },
      "outputs": [
        {
          "name": "stdout",
          "output_type": "stream",
          "text": [
            "75\n",
            "63\n",
            "55\n"
          ]
        },
        {
          "data": {
            "text/plain": [
              "array([75, 63, 55])"
            ]
          },
          "execution_count": 50,
          "metadata": {},
          "output_type": "execute_result"
        }
      ],
      "source": [
        "for i in range(3):\n",
        "    print(arr[i].sum())\n",
        "\n",
        "#ANOTHER METHOD\n",
        "np.sum(arr,axis=1)  # axis =1 prints sum along each row\n",
        "# axis=0 will print along the columns."
      ]
    },
    {
      "cell_type": "markdown",
      "id": "b3dc9bca",
      "metadata": {
        "id": "b3dc9bca"
      },
      "source": [
        "#### 1.3 Reshape the 3x4 array into a 2x6 array and print it."
      ]
    },
    {
      "cell_type": "code",
      "execution_count": null,
      "id": "7ff61ae3",
      "metadata": {
        "id": "7ff61ae3",
        "outputId": "6aaf1fb0-d822-47fa-d51f-2cfac5057734"
      },
      "outputs": [
        {
          "data": {
            "text/plain": [
              "array([[22, 16,  1, 36,  7, 22],\n",
              "       [25,  9, 20,  8, 24,  3]])"
            ]
          },
          "execution_count": 51,
          "metadata": {},
          "output_type": "execute_result"
        }
      ],
      "source": [
        "arr.reshape(2,6) #method to reshape a matrix using numpy"
      ]
    },
    {
      "cell_type": "markdown",
      "id": "1cae44ca",
      "metadata": {
        "id": "1cae44ca"
      },
      "source": [
        "## 2. Create two (3 * 3) matrices using NumPy and print it. Perform and print the results of the following linear algebra operations."
      ]
    },
    {
      "cell_type": "code",
      "execution_count": null,
      "id": "c2db3b35",
      "metadata": {
        "id": "c2db3b35"
      },
      "outputs": [],
      "source": [
        "import random\n",
        "import numpy as np\n",
        "a=list([random.randrange(100)for i in range(3)]for i in range(3))  #creating to 3*3 matrices randomlt\n",
        "b=list([random.randrange(100)for i in range(3)]for i in range(3))\n",
        "\n",
        "arr=np.array(a)\n",
        "arr2=np.array(b)\n"
      ]
    },
    {
      "cell_type": "code",
      "execution_count": null,
      "id": "3cb8359f",
      "metadata": {
        "id": "3cb8359f",
        "outputId": "af287af0-860c-4f3c-cfba-5d2ed155e3e2"
      },
      "outputs": [
        {
          "data": {
            "text/plain": [
              "array([[ 82, 111,  76],\n",
              "       [ 82, 138,  62],\n",
              "       [160,  41, 148]])"
            ]
          },
          "execution_count": 56,
          "metadata": {},
          "output_type": "execute_result"
        }
      ],
      "source": [
        "# Matrix Addition\n",
        "np.add(a,b)"
      ]
    },
    {
      "cell_type": "code",
      "execution_count": null,
      "id": "308d34ca",
      "metadata": {
        "id": "308d34ca",
        "outputId": "4102b957-586a-48e6-af69-0810b2199b93"
      },
      "outputs": [
        {
          "data": {
            "text/plain": [
              "array([[ 26,  21,  72],\n",
              "       [-80, -40, -36],\n",
              "       [ 10,  17, -36]])"
            ]
          },
          "execution_count": 57,
          "metadata": {},
          "output_type": "execute_result"
        }
      ],
      "source": [
        "# Matrix Subtraction\n",
        "np.subtract(a,b)"
      ]
    },
    {
      "cell_type": "code",
      "execution_count": null,
      "id": "c9acbac3",
      "metadata": {
        "id": "c9acbac3",
        "outputId": "3e00037e-a9c7-4fdc-8d93-1b8c5f47a3a3"
      },
      "outputs": [
        {
          "data": {
            "text/plain": [
              "array([[1512, 2970,  148],\n",
              "       [  81, 4361,  637],\n",
              "       [6375,  348, 5152]])"
            ]
          },
          "execution_count": 60,
          "metadata": {},
          "output_type": "execute_result"
        }
      ],
      "source": [
        "# Matrix multiplication\n",
        "np.multiply(a,b)\n"
      ]
    },
    {
      "cell_type": "code",
      "execution_count": null,
      "id": "8bd390ec",
      "metadata": {
        "id": "8bd390ec",
        "outputId": "5ea98bf5-538c-4bff-a93c-5c0c22c502e9"
      },
      "outputs": [
        {
          "data": {
            "text/plain": [
              "array([[54,  1, 85],\n",
              "       [66, 49, 29],\n",
              "       [74, 13, 56]])"
            ]
          },
          "execution_count": 63,
          "metadata": {},
          "output_type": "execute_result"
        }
      ],
      "source": [
        "# transpose of a matrix\n",
        "np.transpose(a)\n"
      ]
    },
    {
      "cell_type": "code",
      "execution_count": null,
      "id": "02bb49f5",
      "metadata": {
        "id": "02bb49f5",
        "outputId": "89c44cc7-7ebd-43e8-897a-b276e22c8d65"
      },
      "outputs": [
        {
          "data": {
            "text/plain": [
              "array([[28, 81, 75],\n",
              "       [45, 89, 12],\n",
              "       [ 2, 49, 92]])"
            ]
          },
          "execution_count": 64,
          "metadata": {},
          "output_type": "execute_result"
        }
      ],
      "source": [
        "np.transpose(b)"
      ]
    },
    {
      "cell_type": "code",
      "execution_count": null,
      "id": "a9e7d8d1",
      "metadata": {
        "id": "a9e7d8d1",
        "outputId": "41b87e99-ea4b-47f4-81f2-5a1dce75ca50"
      },
      "outputs": [
        {
          "data": {
            "text/plain": [
              "-109012.0"
            ]
          },
          "execution_count": 65,
          "metadata": {},
          "output_type": "execute_result"
        }
      ],
      "source": [
        "np.linalg.det(a) #method to calculate determinant of a matrix using numpy"
      ]
    },
    {
      "cell_type": "code",
      "execution_count": null,
      "id": "7f3b3209",
      "metadata": {
        "id": "7f3b3209",
        "outputId": "c6d97534-b00c-41bc-cced-cc2597283a2c"
      },
      "outputs": [
        {
          "data": {
            "text/plain": [
              "array([[-55, -67, -75],\n",
              "       [ -2, -50, -14],\n",
              "       [-86, -30, -57]], dtype=int32)"
            ]
          },
          "execution_count": 66,
          "metadata": {},
          "output_type": "execute_result"
        }
      ],
      "source": [
        "np.invert(a)"
      ]
    },
    {
      "cell_type": "code",
      "execution_count": null,
      "id": "dca510df",
      "metadata": {
        "id": "dca510df"
      },
      "outputs": [],
      "source": []
    }
  ],
  "metadata": {
    "kernelspec": {
      "display_name": "Python 3 (ipykernel)",
      "language": "python",
      "name": "python3"
    },
    "language_info": {
      "codemirror_mode": {
        "name": "ipython",
        "version": 3
      },
      "file_extension": ".py",
      "mimetype": "text/x-python",
      "name": "python",
      "nbconvert_exporter": "python",
      "pygments_lexer": "ipython3",
      "version": "3.9.13"
    },
    "colab": {
      "provenance": []
    }
  },
  "nbformat": 4,
  "nbformat_minor": 5
}