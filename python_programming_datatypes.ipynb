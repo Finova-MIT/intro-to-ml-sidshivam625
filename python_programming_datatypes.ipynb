{
 "cells": [
  {
   "cell_type": "markdown",
   "id": "e0c798a5",
   "metadata": {
    "id": "e0c798a5"
   },
   "source": [
    "# Week 2 Questions \n",
    "\n",
    "Siddhant Shivam ,\n",
    "CA, Roll No-26,\n",
    "Reg No- 240911186"
   ]
  },
  {
   "cell_type": "markdown",
   "id": "2983c7c3",
   "metadata": {
    "id": "2983c7c3"
   },
   "source": [
    "# 1. Write a Python code block that inputs numbers into a list. Print the largest, smallest, the sum, and the average of the numbers."
   ]
  },
  {
   "cell_type": "markdown",
   "id": "24839837",
   "metadata": {
    "id": "24839837"
   },
   "source": [
    "."
   ]
  },
  {
   "cell_type": "code",
   "execution_count": null,
   "id": "40cb3eff",
   "metadata": {
    "id": "40cb3eff",
    "outputId": "3e2ce287-abd4-40c1-f2cc-1145054e869d"
   },
   "outputs": [
    {
     "name": "stdout",
     "output_type": "stream",
     "text": [
      "enter the no of elements to be entered5\n",
      "enter the element32\n",
      "enter the element43\n",
      "enter the element54\n",
      "enter the element12\n",
      "enter the element47\n",
      "the largest number is 54\n",
      "the sum of all elements is 386\n",
      "the smallest number is 12\n",
      "the average of number is 77.2\n"
     ]
    }
   ],
   "source": [
    "a=int(input(\"enter the no of elements to be entered\"))\n",
    "b=[]\n",
    "for i in range(a):\n",
    "    c=int(input(\"enter the element\"))\n",
    "    b.append(c)\n",
    "    sum=sum+c\n",
    "\n",
    "for i in range(a-1):  #method for finding largest and smallest value. Can also be dome by inbulit max and min function\n",
    "    if (b[i]>b[i+1]):\n",
    "        largest=b[i]\n",
    "for i in range(a-1):\n",
    "    if (b[i]<b[i+1]):\n",
    "        smallest=b[i]\n",
    "print(\"the largest number is\",largest)\n",
    "print(\"the sum of all elements is\",sum)\n",
    "print(\"the smallest number is\",smallest)\n",
    "print(\"the average of number is\",float(sum/a))\n",
    "\n",
    "specific_number = int(input(\"Enter a number to count its occurrences: \"))\n",
    "    count = numbers.count(specific_number)  # shortcut to count occurance of a number\n",
    "\n",
    "\n",
    "\n",
    "\n",
    "\n"
   ]
  },
  {
   "cell_type": "markdown",
   "id": "698a2bd9",
   "metadata": {
    "id": "698a2bd9"
   },
   "source": [
    "# 2.Write a Python code block to create a tuple with five elements. Try to change one of the elements and handle the error that occurs. Print a message that explains why the error occurred."
   ]
  },
  {
   "cell_type": "markdown",
   "id": "3bf5109e",
   "metadata": {
    "id": "3bf5109e"
   },
   "source": [
    "."
   ]
  },
  {
   "cell_type": "code",
   "execution_count": null,
   "id": "33ac73a4",
   "metadata": {
    "id": "33ac73a4"
   },
   "outputs": [],
   "source": [
    "a=tuple(range(5))"
   ]
  },
  {
   "cell_type": "code",
   "execution_count": null,
   "id": "1def36ce",
   "metadata": {
    "id": "1def36ce",
    "outputId": "6f75ecda-5c05-414b-b20d-093ec0a4ee8a"
   },
   "outputs": [
    {
     "name": "stdout",
     "output_type": "stream",
     "text": [
      "(0, 1, 2, 3, 4)\n"
     ]
    }
   ],
   "source": [
    "print(a)"
   ]
  },
  {
   "cell_type": "code",
   "execution_count": null,
   "id": "341f4838",
   "metadata": {
    "id": "341f4838"
   },
   "outputs": [],
   "source": []
  },
  {
   "cell_type": "code",
   "execution_count": null,
   "id": "6268887a",
   "metadata": {
    "id": "6268887a",
    "outputId": "254dea6b-17fa-4511-bb99-68506f265f65"
   },
   "outputs": [
    {
     "ename": "TypeError",
     "evalue": "'tuple' object does not support item assignment",
     "output_type": "error",
     "traceback": [
      "\u001b[1;31m---------------------------------------------------------------------------\u001b[0m",
      "\u001b[1;31mTypeError\u001b[0m                                 Traceback (most recent call last)",
      "\u001b[1;32m~\\AppData\\Local\\Temp\\ipykernel_8316\\107053277.py\u001b[0m in \u001b[0;36m<module>\u001b[1;34m\u001b[0m\n\u001b[1;32m----> 1\u001b[1;33m \u001b[0ma\u001b[0m\u001b[1;33m[\u001b[0m\u001b[1;36m3\u001b[0m\u001b[1;33m]\u001b[0m\u001b[1;33m=\u001b[0m\u001b[1;36m7\u001b[0m\u001b[1;33m\u001b[0m\u001b[1;33m\u001b[0m\u001b[0m\n\u001b[0m",
      "\u001b[1;31mTypeError\u001b[0m: 'tuple' object does not support item assignment"
     ]
    }
   ],
   "source": [
    "a[3]=7"
   ]
  },
  {
   "cell_type": "code",
   "execution_count": null,
   "id": "84f3a5ab",
   "metadata": {
    "id": "84f3a5ab",
    "outputId": "29b171b9-bace-4f38-9401-18e4bdf3fda9"
   },
   "outputs": [
    {
     "ename": "AttributeError",
     "evalue": "'tuple' object has no attribute 'append'",
     "output_type": "error",
     "traceback": [
      "\u001b[1;31m---------------------------------------------------------------------------\u001b[0m",
      "\u001b[1;31mAttributeError\u001b[0m                            Traceback (most recent call last)",
      "\u001b[1;32m~\\AppData\\Local\\Temp\\ipykernel_8316\\3263347737.py\u001b[0m in \u001b[0;36m<module>\u001b[1;34m\u001b[0m\n\u001b[1;32m----> 1\u001b[1;33m \u001b[0ma\u001b[0m\u001b[1;33m.\u001b[0m\u001b[0mappend\u001b[0m\u001b[1;33m(\u001b[0m\u001b[1;36m7\u001b[0m\u001b[1;33m)\u001b[0m\u001b[1;33m\u001b[0m\u001b[1;33m\u001b[0m\u001b[0m\n\u001b[0m",
      "\u001b[1;31mAttributeError\u001b[0m: 'tuple' object has no attribute 'append'"
     ]
    }
   ],
   "source": [
    "a.append(7)"
   ]
  },
  {
   "cell_type": "markdown",
   "id": "0b99f1cf",
   "metadata": {
    "id": "0b99f1cf"
   },
   "source": [
    "These errors occur because tuple is a non mutable data type. Therefore its elements cannot be altered.\n",
    "\n",
    "In order to edit the elements of a tuple it must first be converted into a list after which it can be edited. The edited list can then be converted back to a tuple."
   ]
  },
  {
   "cell_type": "markdown",
   "id": "ddc58679",
   "metadata": {
    "id": "ddc58679"
   },
   "source": [
    "# 3.Write a Python code block to create a dictionary of cricket World Cup winners. Let the key be the year; the value is the country that won the World Cup that year. Print the name of the best-performing country. Display the unique list of countries that have won the World Cup. \n",
    "\n",
    "This code used properties of dictionary to map all the unique countries and count their total no of wins to subsequently determine the best perfroming country."
   ]
  },
  {
   "cell_type": "code",
   "execution_count": 2,
   "id": "6614759a",
   "metadata": {
    "colab": {
     "base_uri": "https://localhost:8080/",
     "height": 108
    },
    "id": "6614759a",
    "outputId": "f66f5154-c90b-4d3e-9fd3-b3ae6c6105bf"
   },
   "outputs": [
    {
     "name": "stdin",
     "output_type": "stream",
     "text": [
      "enter the number of years to be entered 5\n",
      "enter the year of match 1963\n",
      "enter the winning country england\n",
      "enter the year of match 1984\n",
      "enter the winning country India\n",
      "enter the year of match 2005\n",
      "enter the winning country India\n",
      "enter the year of match 2014\n",
      "enter the winning country India\n",
      "enter the year of match 2027\n",
      "enter the winning country england\n"
     ]
    },
    {
     "name": "stdout",
     "output_type": "stream",
     "text": [
      "{'england': 2, 'India': 3}\n",
      "the best performing country is India\n"
     ]
    }
   ],
   "source": [
    "a=int(input(\"enter the number of years to be entered\"))\n",
    "d={}\n",
    "di={}\n",
    "for i in range(a):\n",
    "    year=int(input(\"enter the year of match\"))\n",
    "    country=input(\"enter the winning country\")\n",
    "    d[year]=country\n",
    "\n",
    "count=d.values()\n",
    "for i in count :\n",
    "    if i in di:\n",
    "        di[i]=di[i]+1\n",
    "    else:\n",
    "      di.update({i:1})  # creating another disc to show unique entries of all the countries and the matches they have won.\n",
    "print(di)\n",
    "\n",
    "countries=list(di.keys() )\n",
    "wins=list(di.values() )\n",
    "flag= wins.index(max(wins))  # method to calculate the best peroforming country by identifying the country which has most no of wins.\n",
    "print(\"the best performing country is\", countries[flag])\n",
    "\n",
    "\n",
    "\n",
    "\n"
   ]
  },
  {
   "cell_type": "code",
   "execution_count": 4,
   "id": "641ed9ea",
   "metadata": {
    "id": "641ed9ea",
    "outputId": "4e034ac3-5d12-4af0-d915-956194f60859"
   },
   "outputs": [
    {
     "name": "stdout",
     "output_type": "stream",
     "text": [
      "['India', 'england']\n"
     ]
    }
   ],
   "source": [
    "#Code to print all unique countries\n",
    "a=list(set(d.values()))\n",
    "print(a)"
   ]
  },
  {
   "cell_type": "code",
   "execution_count": 6,
   "id": "0b3a0e66",
   "metadata": {
    "id": "0b3a0e66",
    "outputId": "207f1713-055d-4d9f-e301-a5317aec78b0"
   },
   "outputs": [
    {
     "name": "stdout",
     "output_type": "stream",
     "text": [
      "{1963: 'england', 1984: 'India', 2005: 'India', 2014: 'India', 2027: 'england'}\n"
     ]
    }
   ],
   "source": [
    "print(d)"
   ]
  },
  {
   "cell_type": "markdown",
   "id": "I4QDXQ4u_om_",
   "metadata": {
    "id": "I4QDXQ4u_om_"
   },
   "source": [
    "# 4. Write a Python code block that inputs a sentence from the user. Count the frequency of each word in the sentence and store the result in a dictionary. Prints the dictionary with words as keysand their frequencies as values. \n",
    "\n",
    "Here we use the split function to extract all the words from a given sentence and then append their total no of occurances to a dictionary. "
   ]
  },
  {
   "cell_type": "code",
   "execution_count": 13,
   "id": "dc6b4992",
   "metadata": {
    "id": "dc6b4992"
   },
   "outputs": [
    {
     "name": "stdin",
     "output_type": "stream",
     "text": [
      "Enter a sentence:  hello and hello world\n"
     ]
    },
    {
     "name": "stdout",
     "output_type": "stream",
     "text": [
      "Word frequencies:\n",
      "hello: 2\n",
      "and: 1\n",
      "world: 1\n"
     ]
    }
   ],
   "source": [
    " def word_frequency():\n",
    "\n",
    "    # Inputing a sentence\n",
    "    sentence = input(\"Enter a sentence: \")\n",
    "\n",
    "    # Spliting sentence into words and count frequencies using the inbuilt split function.\n",
    "    words = sentence.split()\n",
    "    word_count = {}\n",
    "    for i in words:\n",
    "        word_count[i] = word_count.get(i, 0) + 1\n",
    "\n",
    "    # Display results\n",
    "    print(\"Word frequencies:\")\n",
    "    for word, count in word_count.items():\n",
    "        print(f\"{word}: {count}\") \n",
    "\n",
    "word_frequency()"
   ]
  },
  {
   "cell_type": "markdown",
   "id": "KdI7uaENBDLH",
   "metadata": {
    "id": "KdI7uaENBDLH"
   },
   "source": [
    "# 5. Write a Python code block to input numbers into two sets. Perform union intersection, and difference operations on the sets and print the results.\n"
   ]
  },
  {
   "cell_type": "code",
   "execution_count": null,
   "id": "XbPB-YsTBPrb",
   "metadata": {
    "id": "XbPB-YsTBPrb"
   },
   "outputs": [],
   "source": [
    "def set_operations():\n",
    "   \n",
    "    # Get two sets of numbers from the user\n",
    "    set1 = set(map(int, input(\"Enter numbers for the first set (separated by spaces): \").split()))\n",
    "    set2 = set(map(int, input(\"Enter numbers for the second set (separated by spaces): \").split()))\n",
    "\n",
    "    # Perform and display the operations\n",
    "    print(\"Union (all unique elements):\", set1 | set2)\n",
    "    print(\"Intersection (common elements):\", set1 & set2)\n",
    "    print(\"Difference (elements in the first set but not the second):\", set1 - set2)\n",
    "\n",
    "# Call the function for demonstration\n",
    "set_operations()"
   ]
  }
 ],
 "metadata": {
  "colab": {
   "provenance": []
  },
  "kernelspec": {
   "display_name": "Python [conda env:base] *",
   "language": "python",
   "name": "conda-base-py"
  },
  "language_info": {
   "codemirror_mode": {
    "name": "ipython",
    "version": 3
   },
   "file_extension": ".py",
   "mimetype": "text/x-python",
   "name": "python",
   "nbconvert_exporter": "python",
   "pygments_lexer": "ipython3",
   "version": "3.12.7"
  }
 },
 "nbformat": 4,
 "nbformat_minor": 5
}
